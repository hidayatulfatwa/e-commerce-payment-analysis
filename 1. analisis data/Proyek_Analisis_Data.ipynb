{
  "cells": [
    {
      "cell_type": "markdown",
      "metadata": {
        "id": "H9wADwK78DCz"
      },
      "source": [
        "# Proyek Analisis Data: [Input Nama Dataset]\n",
        "- **Nama:** [Hidayatul Fatwa]\n",
        "- **Email:** [fatwahidayatul@gmail.com]\n",
        "- **ID Dicoding:** [MC323D5Y0438]"
      ]
    },
    {
      "cell_type": "markdown",
      "metadata": {
        "id": "eE0raob58DC0"
      },
      "source": [
        "## Menentukan Pertanyaan Bisnis"
      ]
    },
    {
      "cell_type": "markdown",
      "metadata": {
        "id": "GmQeQ5YF8DC0"
      },
      "source": [
        "1. Bagaimana distribusi metode pembayaran yang paling sering digunakan oleh pelanggan?\n",
        "2. Apakah ada korelasi antara jumlah cicilan (payment_installments) dengan nilai pembayaran (payment_value)?"
      ]
    },
    {
      "cell_type": "markdown",
      "metadata": {
        "id": "H-z4QGlO8DC1"
      },
      "source": [
        "## Import Semua Packages/Library yang Digunakan"
      ]
    },
    {
      "cell_type": "code",
      "execution_count": 130,
      "metadata": {
        "id": "FVYwaObI8DC1"
      },
      "outputs": [],
      "source": [
        "import pandas as pd\n",
        "import numpy as np\n",
        "import matplotlib.pyplot as plt\n",
        "import seaborn as sns\n",
        "import missingno as msno"
      ]
    },
    {
      "cell_type": "markdown",
      "metadata": {
        "id": "h_Sh51Xy8DC1"
      },
      "source": [
        "## Data Wrangling"
      ]
    },
    {
      "cell_type": "markdown",
      "metadata": {
        "id": "sXU2GBYu8DC1"
      },
      "source": [
        "### Gathering Data"
      ]
    },
    {
      "cell_type": "code",
      "source": [
        "from google.colab import drive\n",
        "drive.mount('/content/drive')"
      ],
      "metadata": {
        "colab": {
          "base_uri": "https://localhost:8080/"
        },
        "id": "ge_6ZxXs-9gp",
        "outputId": "ff811414-b4bf-4054-cbe6-ba3008f3ceb8"
      },
      "execution_count": 131,
      "outputs": [
        {
          "output_type": "stream",
          "name": "stdout",
          "text": [
            "Drive already mounted at /content/drive; to attempt to forcibly remount, call drive.mount(\"/content/drive\", force_remount=True).\n"
          ]
        }
      ]
    },
    {
      "cell_type": "markdown",
      "source": [
        "**Insight:**\n",
        "- Pesan \"Drive already mounted at /content/drive\" menunjukkan bahwa Google Drive sudah terhubung ke Google Colab."
      ],
      "metadata": {
        "id": "xHoT7XWGlrY2"
      }
    },
    {
      "cell_type": "code",
      "source": [
        "dfreviews = \"/content/drive/MyDrive/stupend/proyekanalisisddata/order_payments_dataset.csv\"\n",
        "dfreviews = pd.read_csv(dfreviews)\n",
        "dfreviews.head()"
      ],
      "metadata": {
        "id": "yGagN2m48SII",
        "colab": {
          "base_uri": "https://localhost:8080/",
          "height": 206
        },
        "outputId": "7336f9e6-7156-48d1-d7fb-184725d333b4"
      },
      "execution_count": 132,
      "outputs": [
        {
          "output_type": "execute_result",
          "data": {
            "text/plain": [
              "                           order_id  payment_sequential payment_type  \\\n",
              "0  b81ef226f3fe1789b1e8b2acac839d17                   1  credit_card   \n",
              "1  a9810da82917af2d9aefd1278f1dcfa0                   1  credit_card   \n",
              "2  25e8ea4e93396b6fa0d3dd708e76c1bd                   1  credit_card   \n",
              "3  ba78997921bbcdc1373bb41e913ab953                   1  credit_card   \n",
              "4  42fdf880ba16b47b59251dd489d4441a                   1  credit_card   \n",
              "\n",
              "   payment_installments  payment_value  \n",
              "0                     8          99.33  \n",
              "1                     1          24.39  \n",
              "2                     1          65.71  \n",
              "3                     8         107.78  \n",
              "4                     2         128.45  "
            ],
            "text/html": [
              "\n",
              "  <div id=\"df-a31c0988-c181-4c56-93bd-1f7ddebb928e\" class=\"colab-df-container\">\n",
              "    <div>\n",
              "<style scoped>\n",
              "    .dataframe tbody tr th:only-of-type {\n",
              "        vertical-align: middle;\n",
              "    }\n",
              "\n",
              "    .dataframe tbody tr th {\n",
              "        vertical-align: top;\n",
              "    }\n",
              "\n",
              "    .dataframe thead th {\n",
              "        text-align: right;\n",
              "    }\n",
              "</style>\n",
              "<table border=\"1\" class=\"dataframe\">\n",
              "  <thead>\n",
              "    <tr style=\"text-align: right;\">\n",
              "      <th></th>\n",
              "      <th>order_id</th>\n",
              "      <th>payment_sequential</th>\n",
              "      <th>payment_type</th>\n",
              "      <th>payment_installments</th>\n",
              "      <th>payment_value</th>\n",
              "    </tr>\n",
              "  </thead>\n",
              "  <tbody>\n",
              "    <tr>\n",
              "      <th>0</th>\n",
              "      <td>b81ef226f3fe1789b1e8b2acac839d17</td>\n",
              "      <td>1</td>\n",
              "      <td>credit_card</td>\n",
              "      <td>8</td>\n",
              "      <td>99.33</td>\n",
              "    </tr>\n",
              "    <tr>\n",
              "      <th>1</th>\n",
              "      <td>a9810da82917af2d9aefd1278f1dcfa0</td>\n",
              "      <td>1</td>\n",
              "      <td>credit_card</td>\n",
              "      <td>1</td>\n",
              "      <td>24.39</td>\n",
              "    </tr>\n",
              "    <tr>\n",
              "      <th>2</th>\n",
              "      <td>25e8ea4e93396b6fa0d3dd708e76c1bd</td>\n",
              "      <td>1</td>\n",
              "      <td>credit_card</td>\n",
              "      <td>1</td>\n",
              "      <td>65.71</td>\n",
              "    </tr>\n",
              "    <tr>\n",
              "      <th>3</th>\n",
              "      <td>ba78997921bbcdc1373bb41e913ab953</td>\n",
              "      <td>1</td>\n",
              "      <td>credit_card</td>\n",
              "      <td>8</td>\n",
              "      <td>107.78</td>\n",
              "    </tr>\n",
              "    <tr>\n",
              "      <th>4</th>\n",
              "      <td>42fdf880ba16b47b59251dd489d4441a</td>\n",
              "      <td>1</td>\n",
              "      <td>credit_card</td>\n",
              "      <td>2</td>\n",
              "      <td>128.45</td>\n",
              "    </tr>\n",
              "  </tbody>\n",
              "</table>\n",
              "</div>\n",
              "    <div class=\"colab-df-buttons\">\n",
              "\n",
              "  <div class=\"colab-df-container\">\n",
              "    <button class=\"colab-df-convert\" onclick=\"convertToInteractive('df-a31c0988-c181-4c56-93bd-1f7ddebb928e')\"\n",
              "            title=\"Convert this dataframe to an interactive table.\"\n",
              "            style=\"display:none;\">\n",
              "\n",
              "  <svg xmlns=\"http://www.w3.org/2000/svg\" height=\"24px\" viewBox=\"0 -960 960 960\">\n",
              "    <path d=\"M120-120v-720h720v720H120Zm60-500h600v-160H180v160Zm220 220h160v-160H400v160Zm0 220h160v-160H400v160ZM180-400h160v-160H180v160Zm440 0h160v-160H620v160ZM180-180h160v-160H180v160Zm440 0h160v-160H620v160Z\"/>\n",
              "  </svg>\n",
              "    </button>\n",
              "\n",
              "  <style>\n",
              "    .colab-df-container {\n",
              "      display:flex;\n",
              "      gap: 12px;\n",
              "    }\n",
              "\n",
              "    .colab-df-convert {\n",
              "      background-color: #E8F0FE;\n",
              "      border: none;\n",
              "      border-radius: 50%;\n",
              "      cursor: pointer;\n",
              "      display: none;\n",
              "      fill: #1967D2;\n",
              "      height: 32px;\n",
              "      padding: 0 0 0 0;\n",
              "      width: 32px;\n",
              "    }\n",
              "\n",
              "    .colab-df-convert:hover {\n",
              "      background-color: #E2EBFA;\n",
              "      box-shadow: 0px 1px 2px rgba(60, 64, 67, 0.3), 0px 1px 3px 1px rgba(60, 64, 67, 0.15);\n",
              "      fill: #174EA6;\n",
              "    }\n",
              "\n",
              "    .colab-df-buttons div {\n",
              "      margin-bottom: 4px;\n",
              "    }\n",
              "\n",
              "    [theme=dark] .colab-df-convert {\n",
              "      background-color: #3B4455;\n",
              "      fill: #D2E3FC;\n",
              "    }\n",
              "\n",
              "    [theme=dark] .colab-df-convert:hover {\n",
              "      background-color: #434B5C;\n",
              "      box-shadow: 0px 1px 3px 1px rgba(0, 0, 0, 0.15);\n",
              "      filter: drop-shadow(0px 1px 2px rgba(0, 0, 0, 0.3));\n",
              "      fill: #FFFFFF;\n",
              "    }\n",
              "  </style>\n",
              "\n",
              "    <script>\n",
              "      const buttonEl =\n",
              "        document.querySelector('#df-a31c0988-c181-4c56-93bd-1f7ddebb928e button.colab-df-convert');\n",
              "      buttonEl.style.display =\n",
              "        google.colab.kernel.accessAllowed ? 'block' : 'none';\n",
              "\n",
              "      async function convertToInteractive(key) {\n",
              "        const element = document.querySelector('#df-a31c0988-c181-4c56-93bd-1f7ddebb928e');\n",
              "        const dataTable =\n",
              "          await google.colab.kernel.invokeFunction('convertToInteractive',\n",
              "                                                    [key], {});\n",
              "        if (!dataTable) return;\n",
              "\n",
              "        const docLinkHtml = 'Like what you see? Visit the ' +\n",
              "          '<a target=\"_blank\" href=https://colab.research.google.com/notebooks/data_table.ipynb>data table notebook</a>'\n",
              "          + ' to learn more about interactive tables.';\n",
              "        element.innerHTML = '';\n",
              "        dataTable['output_type'] = 'display_data';\n",
              "        await google.colab.output.renderOutput(dataTable, element);\n",
              "        const docLink = document.createElement('div');\n",
              "        docLink.innerHTML = docLinkHtml;\n",
              "        element.appendChild(docLink);\n",
              "      }\n",
              "    </script>\n",
              "  </div>\n",
              "\n",
              "\n",
              "<div id=\"df-7ccae3b9-d082-4cc5-832d-e8e75ec767a3\">\n",
              "  <button class=\"colab-df-quickchart\" onclick=\"quickchart('df-7ccae3b9-d082-4cc5-832d-e8e75ec767a3')\"\n",
              "            title=\"Suggest charts\"\n",
              "            style=\"display:none;\">\n",
              "\n",
              "<svg xmlns=\"http://www.w3.org/2000/svg\" height=\"24px\"viewBox=\"0 0 24 24\"\n",
              "     width=\"24px\">\n",
              "    <g>\n",
              "        <path d=\"M19 3H5c-1.1 0-2 .9-2 2v14c0 1.1.9 2 2 2h14c1.1 0 2-.9 2-2V5c0-1.1-.9-2-2-2zM9 17H7v-7h2v7zm4 0h-2V7h2v10zm4 0h-2v-4h2v4z\"/>\n",
              "    </g>\n",
              "</svg>\n",
              "  </button>\n",
              "\n",
              "<style>\n",
              "  .colab-df-quickchart {\n",
              "      --bg-color: #E8F0FE;\n",
              "      --fill-color: #1967D2;\n",
              "      --hover-bg-color: #E2EBFA;\n",
              "      --hover-fill-color: #174EA6;\n",
              "      --disabled-fill-color: #AAA;\n",
              "      --disabled-bg-color: #DDD;\n",
              "  }\n",
              "\n",
              "  [theme=dark] .colab-df-quickchart {\n",
              "      --bg-color: #3B4455;\n",
              "      --fill-color: #D2E3FC;\n",
              "      --hover-bg-color: #434B5C;\n",
              "      --hover-fill-color: #FFFFFF;\n",
              "      --disabled-bg-color: #3B4455;\n",
              "      --disabled-fill-color: #666;\n",
              "  }\n",
              "\n",
              "  .colab-df-quickchart {\n",
              "    background-color: var(--bg-color);\n",
              "    border: none;\n",
              "    border-radius: 50%;\n",
              "    cursor: pointer;\n",
              "    display: none;\n",
              "    fill: var(--fill-color);\n",
              "    height: 32px;\n",
              "    padding: 0;\n",
              "    width: 32px;\n",
              "  }\n",
              "\n",
              "  .colab-df-quickchart:hover {\n",
              "    background-color: var(--hover-bg-color);\n",
              "    box-shadow: 0 1px 2px rgba(60, 64, 67, 0.3), 0 1px 3px 1px rgba(60, 64, 67, 0.15);\n",
              "    fill: var(--button-hover-fill-color);\n",
              "  }\n",
              "\n",
              "  .colab-df-quickchart-complete:disabled,\n",
              "  .colab-df-quickchart-complete:disabled:hover {\n",
              "    background-color: var(--disabled-bg-color);\n",
              "    fill: var(--disabled-fill-color);\n",
              "    box-shadow: none;\n",
              "  }\n",
              "\n",
              "  .colab-df-spinner {\n",
              "    border: 2px solid var(--fill-color);\n",
              "    border-color: transparent;\n",
              "    border-bottom-color: var(--fill-color);\n",
              "    animation:\n",
              "      spin 1s steps(1) infinite;\n",
              "  }\n",
              "\n",
              "  @keyframes spin {\n",
              "    0% {\n",
              "      border-color: transparent;\n",
              "      border-bottom-color: var(--fill-color);\n",
              "      border-left-color: var(--fill-color);\n",
              "    }\n",
              "    20% {\n",
              "      border-color: transparent;\n",
              "      border-left-color: var(--fill-color);\n",
              "      border-top-color: var(--fill-color);\n",
              "    }\n",
              "    30% {\n",
              "      border-color: transparent;\n",
              "      border-left-color: var(--fill-color);\n",
              "      border-top-color: var(--fill-color);\n",
              "      border-right-color: var(--fill-color);\n",
              "    }\n",
              "    40% {\n",
              "      border-color: transparent;\n",
              "      border-right-color: var(--fill-color);\n",
              "      border-top-color: var(--fill-color);\n",
              "    }\n",
              "    60% {\n",
              "      border-color: transparent;\n",
              "      border-right-color: var(--fill-color);\n",
              "    }\n",
              "    80% {\n",
              "      border-color: transparent;\n",
              "      border-right-color: var(--fill-color);\n",
              "      border-bottom-color: var(--fill-color);\n",
              "    }\n",
              "    90% {\n",
              "      border-color: transparent;\n",
              "      border-bottom-color: var(--fill-color);\n",
              "    }\n",
              "  }\n",
              "</style>\n",
              "\n",
              "  <script>\n",
              "    async function quickchart(key) {\n",
              "      const quickchartButtonEl =\n",
              "        document.querySelector('#' + key + ' button');\n",
              "      quickchartButtonEl.disabled = true;  // To prevent multiple clicks.\n",
              "      quickchartButtonEl.classList.add('colab-df-spinner');\n",
              "      try {\n",
              "        const charts = await google.colab.kernel.invokeFunction(\n",
              "            'suggestCharts', [key], {});\n",
              "      } catch (error) {\n",
              "        console.error('Error during call to suggestCharts:', error);\n",
              "      }\n",
              "      quickchartButtonEl.classList.remove('colab-df-spinner');\n",
              "      quickchartButtonEl.classList.add('colab-df-quickchart-complete');\n",
              "    }\n",
              "    (() => {\n",
              "      let quickchartButtonEl =\n",
              "        document.querySelector('#df-7ccae3b9-d082-4cc5-832d-e8e75ec767a3 button');\n",
              "      quickchartButtonEl.style.display =\n",
              "        google.colab.kernel.accessAllowed ? 'block' : 'none';\n",
              "    })();\n",
              "  </script>\n",
              "</div>\n",
              "\n",
              "    </div>\n",
              "  </div>\n"
            ],
            "application/vnd.google.colaboratory.intrinsic+json": {
              "type": "dataframe",
              "variable_name": "dfreviews"
            }
          },
          "metadata": {},
          "execution_count": 132
        }
      ]
    },
    {
      "cell_type": "markdown",
      "source": [
        "**Insight:**\n",
        "- Dataset ini berisi informasi mengenai pembayaran pesanan, dengan kolom utama seperti order_id (ID pesanan), payment_sequential (urutan pembayaran untuk satu pesanan), payment_type (jenis metode pembayaran), payment_installments (jumlah cicilan), dan payment_value (nilai pembayaran)."
      ],
      "metadata": {
        "id": "lzNr7dx5lr5U"
      }
    },
    {
      "cell_type": "markdown",
      "metadata": {
        "id": "FHSiqaZp8DC1"
      },
      "source": [
        "### Assessing Data"
      ]
    },
    {
      "cell_type": "code",
      "execution_count": 133,
      "metadata": {
        "id": "zjCBk1BI8DC1",
        "colab": {
          "base_uri": "https://localhost:8080/"
        },
        "outputId": "e6a8586e-e7df-4c06-f954-ccd7e90de422"
      },
      "outputs": [
        {
          "output_type": "stream",
          "name": "stdout",
          "text": [
            "<class 'pandas.core.frame.DataFrame'>\n",
            "RangeIndex: 103886 entries, 0 to 103885\n",
            "Data columns (total 5 columns):\n",
            " #   Column                Non-Null Count   Dtype  \n",
            "---  ------                --------------   -----  \n",
            " 0   order_id              103886 non-null  object \n",
            " 1   payment_sequential    103886 non-null  int64  \n",
            " 2   payment_type          103886 non-null  object \n",
            " 3   payment_installments  103886 non-null  int64  \n",
            " 4   payment_value         103886 non-null  float64\n",
            "dtypes: float64(1), int64(2), object(2)\n",
            "memory usage: 4.0+ MB\n"
          ]
        }
      ],
      "source": [
        "# Menampilkan informasi umum tentang dataset, termasuk jumlah kolom, tipe data, dan nilai yang tidak null\n",
        "dfreviews.info()"
      ]
    },
    {
      "cell_type": "markdown",
      "source": [
        "**Insight:**\n",
        "- Dataset ini berisi 103.886 entri dengan 5 kolom utama, yaitu order_id, payment_sequential, payment_type, payment_installments, dan payment_value."
      ],
      "metadata": {
        "id": "7yNN8wkglsi_"
      }
    },
    {
      "cell_type": "code",
      "source": [
        "# mengecek nilai null\n",
        "print(dfreviews.isnull().sum())"
      ],
      "metadata": {
        "colab": {
          "base_uri": "https://localhost:8080/"
        },
        "id": "b8r7zlTKYxks",
        "outputId": "fdb8728c-6a47-4ef3-a462-e6fbaa1f20a3"
      },
      "execution_count": 134,
      "outputs": [
        {
          "output_type": "stream",
          "name": "stdout",
          "text": [
            "order_id                0\n",
            "payment_sequential      0\n",
            "payment_type            0\n",
            "payment_installments    0\n",
            "payment_value           0\n",
            "dtype: int64\n"
          ]
        }
      ]
    },
    {
      "cell_type": "markdown",
      "source": [
        "**Insight:**\n",
        "- Hasil pemeriksaan menunjukkan bahwa tidak ada nilai null dalam dataset, yang berarti semua entri pada setiap kolom terisi dengan lengkap."
      ],
      "metadata": {
        "id": "pbdhwCnZls-G"
      }
    },
    {
      "cell_type": "code",
      "source": [
        "# mengecek duplikat data\n",
        "duplicate_rows = dfreviews[dfreviews.duplicated()]\n",
        "print(\"Number of duplicate rows:\", len(duplicate_rows))\n",
        "print(\"Duplicate Rows:\")\n",
        "print(duplicate_rows)"
      ],
      "metadata": {
        "colab": {
          "base_uri": "https://localhost:8080/"
        },
        "id": "qBNMBdq8ZJeX",
        "outputId": "699f6f05-dfc2-46ed-a996-995f6fbb9357"
      },
      "execution_count": 135,
      "outputs": [
        {
          "output_type": "stream",
          "name": "stdout",
          "text": [
            "Number of duplicate rows: 0\n",
            "Duplicate Rows:\n",
            "Empty DataFrame\n",
            "Columns: [order_id, payment_sequential, payment_type, payment_installments, payment_value]\n",
            "Index: []\n"
          ]
        }
      ]
    },
    {
      "cell_type": "markdown",
      "source": [
        "**Insight:**\n",
        "- Hasil pengecekan menunjukkan bahwa tidak ada data duplikat dalam dataset. Hal ini berarti setiap entri dalam dataset bersifat unik, sehingga tidak diperlukan proses penghapusan atau penyesuaian untuk menangani data ganda."
      ],
      "metadata": {
        "id": "O5XlgJftltp2"
      }
    },
    {
      "cell_type": "code",
      "source": [
        "# Mengecek dimensi data\n",
        "print(\"Shape of the DataFrame:\", dfreviews.shape)"
      ],
      "metadata": {
        "colab": {
          "base_uri": "https://localhost:8080/"
        },
        "id": "oH5u4S8zZYkh",
        "outputId": "c54b575d-f33e-4fea-c884-80c03d4f9770"
      },
      "execution_count": 136,
      "outputs": [
        {
          "output_type": "stream",
          "name": "stdout",
          "text": [
            "Shape of the DataFrame: (103886, 5)\n"
          ]
        }
      ]
    },
    {
      "cell_type": "markdown",
      "source": [
        "**Insight:**\n",
        "- Dataset terdiri dari 103.886 baris dan 5 kolom, yang menunjukkan bahwa terdapat lebih dari 100 ribu transaksi pembayaran yang terekam."
      ],
      "metadata": {
        "id": "7dtxhAPrkhPL"
      }
    },
    {
      "cell_type": "code",
      "source": [
        "# mengecek jenis payment_type\n",
        "\n",
        "# Check the unique values in the 'payment_type' column\n",
        "unique_payment_types = dfreviews['payment_type'].unique()\n",
        "print(\"Unique payment types:\", unique_payment_types)\n",
        "\n",
        "# Count the occurrences of each payment type\n",
        "payment_type_counts = dfreviews['payment_type'].value_counts()\n",
        "print(\"\\nPayment type counts:\\n\", payment_type_counts)"
      ],
      "metadata": {
        "colab": {
          "base_uri": "https://localhost:8080/"
        },
        "id": "W-W09M_Eh0OM",
        "outputId": "8687a2ce-3bf6-40e1-ace6-8d1b2be54aee"
      },
      "execution_count": 137,
      "outputs": [
        {
          "output_type": "stream",
          "name": "stdout",
          "text": [
            "Unique payment types: ['credit_card' 'boleto' 'voucher' 'debit_card' 'not_defined']\n",
            "\n",
            "Payment type counts:\n",
            " payment_type\n",
            "credit_card    76795\n",
            "boleto         19784\n",
            "voucher         5775\n",
            "debit_card      1529\n",
            "not_defined        3\n",
            "Name: count, dtype: int64\n"
          ]
        }
      ]
    },
    {
      "cell_type": "markdown",
      "source": [
        "**Insight:**\n",
        "- Hasil analisis menunjukkan bahwa metode pembayaran yang paling sering digunakan adalah kartu kredit (credit_card) dengan 76.795 transaksi, diikuti oleh boleto (sistem pembayaran berbasis invoice di Brasil) sebanyak 19.784 transaksi. Metode voucher digunakan dalam 5.775 transaksi, sementara debit card relatif jarang digunakan dengan 1.529 transaksi. Terdapat juga 3 transaksi yang tidak terdefinisi (not_defined), yang mungkin disebabkan oleh kesalahan input atau data yang tidak lengkap."
      ],
      "metadata": {
        "id": "5ZRw4EFHluwt"
      }
    },
    {
      "cell_type": "markdown",
      "metadata": {
        "id": "EhN5R4hr8DC1"
      },
      "source": [
        "### Cleaning Data"
      ]
    },
    {
      "cell_type": "code",
      "source": [
        "# menghapus jenis payment_type yaitu not_defined\n",
        "\n",
        "# Remove rows where 'payment_type' is 'not_defined'\n",
        "dfreviews = dfreviews[dfreviews['payment_type'] != 'not_defined']\n",
        "\n",
        "# Verify the change\n",
        "unique_payment_types = dfreviews['payment_type'].unique()\n",
        "print(\"Unique payment types after removal:\", unique_payment_types)\n",
        "\n",
        "payment_type_counts = dfreviews['payment_type'].value_counts()\n",
        "print(\"\\nPayment type counts after removal:\\n\", payment_type_counts)"
      ],
      "metadata": {
        "id": "jVnYpprE9Evz",
        "colab": {
          "base_uri": "https://localhost:8080/"
        },
        "outputId": "fbee14e4-17ab-452c-fc0e-5ed49db2c51b"
      },
      "execution_count": 138,
      "outputs": [
        {
          "output_type": "stream",
          "name": "stdout",
          "text": [
            "Unique payment types after removal: ['credit_card' 'boleto' 'voucher' 'debit_card']\n",
            "\n",
            "Payment type counts after removal:\n",
            " payment_type\n",
            "credit_card    76795\n",
            "boleto         19784\n",
            "voucher         5775\n",
            "debit_card      1529\n",
            "Name: count, dtype: int64\n"
          ]
        }
      ]
    },
    {
      "cell_type": "markdown",
      "source": [
        "**Insight:**\n",
        "- Setelah menghapus metode pembayaran \"not_defined\", kini dataset hanya terdiri dari empat metode pembayaran utama: credit_card, boleto, voucher, dan debit_card. Jumlah transaksi untuk masing-masing metode tetap sama seperti sebelumnya, dengan kartu kredit sebagai metode paling dominan, diikuti oleh boleto, voucher, dan kartu debit. Penghapusan data yang tidak terdefinisi ini membantu meningkatkan kualitas analisis, memastikan bahwa hanya transaksi yang valid dan jelas yang digunakan dalam eksplorasi lebih lanjut."
      ],
      "metadata": {
        "id": "Q_5ejIqckiSP"
      }
    },
    {
      "cell_type": "markdown",
      "metadata": {
        "id": "gp-Y6wU38DC1"
      },
      "source": [
        "## Exploratory Data Analysis (EDA)"
      ]
    },
    {
      "cell_type": "markdown",
      "metadata": {
        "id": "MW7WF2kr8DC1"
      },
      "source": [
        "### Explore ..."
      ]
    },
    {
      "cell_type": "code",
      "source": [
        "# Menampilkan 5 Data Teratas dari Dataset\n",
        "dfreviews.head()"
      ],
      "metadata": {
        "colab": {
          "base_uri": "https://localhost:8080/",
          "height": 206
        },
        "id": "_1Uf2TkFjyVm",
        "outputId": "41baa427-2eab-4a3f-b59b-a7c1a3c01c1a"
      },
      "execution_count": 139,
      "outputs": [
        {
          "output_type": "execute_result",
          "data": {
            "text/plain": [
              "                           order_id  payment_sequential payment_type  \\\n",
              "0  b81ef226f3fe1789b1e8b2acac839d17                   1  credit_card   \n",
              "1  a9810da82917af2d9aefd1278f1dcfa0                   1  credit_card   \n",
              "2  25e8ea4e93396b6fa0d3dd708e76c1bd                   1  credit_card   \n",
              "3  ba78997921bbcdc1373bb41e913ab953                   1  credit_card   \n",
              "4  42fdf880ba16b47b59251dd489d4441a                   1  credit_card   \n",
              "\n",
              "   payment_installments  payment_value  \n",
              "0                     8          99.33  \n",
              "1                     1          24.39  \n",
              "2                     1          65.71  \n",
              "3                     8         107.78  \n",
              "4                     2         128.45  "
            ],
            "text/html": [
              "\n",
              "  <div id=\"df-78c625fc-ec01-4098-a78f-17ce45e29c88\" class=\"colab-df-container\">\n",
              "    <div>\n",
              "<style scoped>\n",
              "    .dataframe tbody tr th:only-of-type {\n",
              "        vertical-align: middle;\n",
              "    }\n",
              "\n",
              "    .dataframe tbody tr th {\n",
              "        vertical-align: top;\n",
              "    }\n",
              "\n",
              "    .dataframe thead th {\n",
              "        text-align: right;\n",
              "    }\n",
              "</style>\n",
              "<table border=\"1\" class=\"dataframe\">\n",
              "  <thead>\n",
              "    <tr style=\"text-align: right;\">\n",
              "      <th></th>\n",
              "      <th>order_id</th>\n",
              "      <th>payment_sequential</th>\n",
              "      <th>payment_type</th>\n",
              "      <th>payment_installments</th>\n",
              "      <th>payment_value</th>\n",
              "    </tr>\n",
              "  </thead>\n",
              "  <tbody>\n",
              "    <tr>\n",
              "      <th>0</th>\n",
              "      <td>b81ef226f3fe1789b1e8b2acac839d17</td>\n",
              "      <td>1</td>\n",
              "      <td>credit_card</td>\n",
              "      <td>8</td>\n",
              "      <td>99.33</td>\n",
              "    </tr>\n",
              "    <tr>\n",
              "      <th>1</th>\n",
              "      <td>a9810da82917af2d9aefd1278f1dcfa0</td>\n",
              "      <td>1</td>\n",
              "      <td>credit_card</td>\n",
              "      <td>1</td>\n",
              "      <td>24.39</td>\n",
              "    </tr>\n",
              "    <tr>\n",
              "      <th>2</th>\n",
              "      <td>25e8ea4e93396b6fa0d3dd708e76c1bd</td>\n",
              "      <td>1</td>\n",
              "      <td>credit_card</td>\n",
              "      <td>1</td>\n",
              "      <td>65.71</td>\n",
              "    </tr>\n",
              "    <tr>\n",
              "      <th>3</th>\n",
              "      <td>ba78997921bbcdc1373bb41e913ab953</td>\n",
              "      <td>1</td>\n",
              "      <td>credit_card</td>\n",
              "      <td>8</td>\n",
              "      <td>107.78</td>\n",
              "    </tr>\n",
              "    <tr>\n",
              "      <th>4</th>\n",
              "      <td>42fdf880ba16b47b59251dd489d4441a</td>\n",
              "      <td>1</td>\n",
              "      <td>credit_card</td>\n",
              "      <td>2</td>\n",
              "      <td>128.45</td>\n",
              "    </tr>\n",
              "  </tbody>\n",
              "</table>\n",
              "</div>\n",
              "    <div class=\"colab-df-buttons\">\n",
              "\n",
              "  <div class=\"colab-df-container\">\n",
              "    <button class=\"colab-df-convert\" onclick=\"convertToInteractive('df-78c625fc-ec01-4098-a78f-17ce45e29c88')\"\n",
              "            title=\"Convert this dataframe to an interactive table.\"\n",
              "            style=\"display:none;\">\n",
              "\n",
              "  <svg xmlns=\"http://www.w3.org/2000/svg\" height=\"24px\" viewBox=\"0 -960 960 960\">\n",
              "    <path d=\"M120-120v-720h720v720H120Zm60-500h600v-160H180v160Zm220 220h160v-160H400v160Zm0 220h160v-160H400v160ZM180-400h160v-160H180v160Zm440 0h160v-160H620v160ZM180-180h160v-160H180v160Zm440 0h160v-160H620v160Z\"/>\n",
              "  </svg>\n",
              "    </button>\n",
              "\n",
              "  <style>\n",
              "    .colab-df-container {\n",
              "      display:flex;\n",
              "      gap: 12px;\n",
              "    }\n",
              "\n",
              "    .colab-df-convert {\n",
              "      background-color: #E8F0FE;\n",
              "      border: none;\n",
              "      border-radius: 50%;\n",
              "      cursor: pointer;\n",
              "      display: none;\n",
              "      fill: #1967D2;\n",
              "      height: 32px;\n",
              "      padding: 0 0 0 0;\n",
              "      width: 32px;\n",
              "    }\n",
              "\n",
              "    .colab-df-convert:hover {\n",
              "      background-color: #E2EBFA;\n",
              "      box-shadow: 0px 1px 2px rgba(60, 64, 67, 0.3), 0px 1px 3px 1px rgba(60, 64, 67, 0.15);\n",
              "      fill: #174EA6;\n",
              "    }\n",
              "\n",
              "    .colab-df-buttons div {\n",
              "      margin-bottom: 4px;\n",
              "    }\n",
              "\n",
              "    [theme=dark] .colab-df-convert {\n",
              "      background-color: #3B4455;\n",
              "      fill: #D2E3FC;\n",
              "    }\n",
              "\n",
              "    [theme=dark] .colab-df-convert:hover {\n",
              "      background-color: #434B5C;\n",
              "      box-shadow: 0px 1px 3px 1px rgba(0, 0, 0, 0.15);\n",
              "      filter: drop-shadow(0px 1px 2px rgba(0, 0, 0, 0.3));\n",
              "      fill: #FFFFFF;\n",
              "    }\n",
              "  </style>\n",
              "\n",
              "    <script>\n",
              "      const buttonEl =\n",
              "        document.querySelector('#df-78c625fc-ec01-4098-a78f-17ce45e29c88 button.colab-df-convert');\n",
              "      buttonEl.style.display =\n",
              "        google.colab.kernel.accessAllowed ? 'block' : 'none';\n",
              "\n",
              "      async function convertToInteractive(key) {\n",
              "        const element = document.querySelector('#df-78c625fc-ec01-4098-a78f-17ce45e29c88');\n",
              "        const dataTable =\n",
              "          await google.colab.kernel.invokeFunction('convertToInteractive',\n",
              "                                                    [key], {});\n",
              "        if (!dataTable) return;\n",
              "\n",
              "        const docLinkHtml = 'Like what you see? Visit the ' +\n",
              "          '<a target=\"_blank\" href=https://colab.research.google.com/notebooks/data_table.ipynb>data table notebook</a>'\n",
              "          + ' to learn more about interactive tables.';\n",
              "        element.innerHTML = '';\n",
              "        dataTable['output_type'] = 'display_data';\n",
              "        await google.colab.output.renderOutput(dataTable, element);\n",
              "        const docLink = document.createElement('div');\n",
              "        docLink.innerHTML = docLinkHtml;\n",
              "        element.appendChild(docLink);\n",
              "      }\n",
              "    </script>\n",
              "  </div>\n",
              "\n",
              "\n",
              "<div id=\"df-8304b867-c853-43c6-9c80-975d6b818f76\">\n",
              "  <button class=\"colab-df-quickchart\" onclick=\"quickchart('df-8304b867-c853-43c6-9c80-975d6b818f76')\"\n",
              "            title=\"Suggest charts\"\n",
              "            style=\"display:none;\">\n",
              "\n",
              "<svg xmlns=\"http://www.w3.org/2000/svg\" height=\"24px\"viewBox=\"0 0 24 24\"\n",
              "     width=\"24px\">\n",
              "    <g>\n",
              "        <path d=\"M19 3H5c-1.1 0-2 .9-2 2v14c0 1.1.9 2 2 2h14c1.1 0 2-.9 2-2V5c0-1.1-.9-2-2-2zM9 17H7v-7h2v7zm4 0h-2V7h2v10zm4 0h-2v-4h2v4z\"/>\n",
              "    </g>\n",
              "</svg>\n",
              "  </button>\n",
              "\n",
              "<style>\n",
              "  .colab-df-quickchart {\n",
              "      --bg-color: #E8F0FE;\n",
              "      --fill-color: #1967D2;\n",
              "      --hover-bg-color: #E2EBFA;\n",
              "      --hover-fill-color: #174EA6;\n",
              "      --disabled-fill-color: #AAA;\n",
              "      --disabled-bg-color: #DDD;\n",
              "  }\n",
              "\n",
              "  [theme=dark] .colab-df-quickchart {\n",
              "      --bg-color: #3B4455;\n",
              "      --fill-color: #D2E3FC;\n",
              "      --hover-bg-color: #434B5C;\n",
              "      --hover-fill-color: #FFFFFF;\n",
              "      --disabled-bg-color: #3B4455;\n",
              "      --disabled-fill-color: #666;\n",
              "  }\n",
              "\n",
              "  .colab-df-quickchart {\n",
              "    background-color: var(--bg-color);\n",
              "    border: none;\n",
              "    border-radius: 50%;\n",
              "    cursor: pointer;\n",
              "    display: none;\n",
              "    fill: var(--fill-color);\n",
              "    height: 32px;\n",
              "    padding: 0;\n",
              "    width: 32px;\n",
              "  }\n",
              "\n",
              "  .colab-df-quickchart:hover {\n",
              "    background-color: var(--hover-bg-color);\n",
              "    box-shadow: 0 1px 2px rgba(60, 64, 67, 0.3), 0 1px 3px 1px rgba(60, 64, 67, 0.15);\n",
              "    fill: var(--button-hover-fill-color);\n",
              "  }\n",
              "\n",
              "  .colab-df-quickchart-complete:disabled,\n",
              "  .colab-df-quickchart-complete:disabled:hover {\n",
              "    background-color: var(--disabled-bg-color);\n",
              "    fill: var(--disabled-fill-color);\n",
              "    box-shadow: none;\n",
              "  }\n",
              "\n",
              "  .colab-df-spinner {\n",
              "    border: 2px solid var(--fill-color);\n",
              "    border-color: transparent;\n",
              "    border-bottom-color: var(--fill-color);\n",
              "    animation:\n",
              "      spin 1s steps(1) infinite;\n",
              "  }\n",
              "\n",
              "  @keyframes spin {\n",
              "    0% {\n",
              "      border-color: transparent;\n",
              "      border-bottom-color: var(--fill-color);\n",
              "      border-left-color: var(--fill-color);\n",
              "    }\n",
              "    20% {\n",
              "      border-color: transparent;\n",
              "      border-left-color: var(--fill-color);\n",
              "      border-top-color: var(--fill-color);\n",
              "    }\n",
              "    30% {\n",
              "      border-color: transparent;\n",
              "      border-left-color: var(--fill-color);\n",
              "      border-top-color: var(--fill-color);\n",
              "      border-right-color: var(--fill-color);\n",
              "    }\n",
              "    40% {\n",
              "      border-color: transparent;\n",
              "      border-right-color: var(--fill-color);\n",
              "      border-top-color: var(--fill-color);\n",
              "    }\n",
              "    60% {\n",
              "      border-color: transparent;\n",
              "      border-right-color: var(--fill-color);\n",
              "    }\n",
              "    80% {\n",
              "      border-color: transparent;\n",
              "      border-right-color: var(--fill-color);\n",
              "      border-bottom-color: var(--fill-color);\n",
              "    }\n",
              "    90% {\n",
              "      border-color: transparent;\n",
              "      border-bottom-color: var(--fill-color);\n",
              "    }\n",
              "  }\n",
              "</style>\n",
              "\n",
              "  <script>\n",
              "    async function quickchart(key) {\n",
              "      const quickchartButtonEl =\n",
              "        document.querySelector('#' + key + ' button');\n",
              "      quickchartButtonEl.disabled = true;  // To prevent multiple clicks.\n",
              "      quickchartButtonEl.classList.add('colab-df-spinner');\n",
              "      try {\n",
              "        const charts = await google.colab.kernel.invokeFunction(\n",
              "            'suggestCharts', [key], {});\n",
              "      } catch (error) {\n",
              "        console.error('Error during call to suggestCharts:', error);\n",
              "      }\n",
              "      quickchartButtonEl.classList.remove('colab-df-spinner');\n",
              "      quickchartButtonEl.classList.add('colab-df-quickchart-complete');\n",
              "    }\n",
              "    (() => {\n",
              "      let quickchartButtonEl =\n",
              "        document.querySelector('#df-8304b867-c853-43c6-9c80-975d6b818f76 button');\n",
              "      quickchartButtonEl.style.display =\n",
              "        google.colab.kernel.accessAllowed ? 'block' : 'none';\n",
              "    })();\n",
              "  </script>\n",
              "</div>\n",
              "\n",
              "    </div>\n",
              "  </div>\n"
            ],
            "application/vnd.google.colaboratory.intrinsic+json": {
              "type": "dataframe",
              "variable_name": "dfreviews"
            }
          },
          "metadata": {},
          "execution_count": 139
        }
      ]
    },
    {
      "cell_type": "markdown",
      "source": [
        "**Insight:**\n",
        "- Dataset ini berisi informasi mengenai pembayaran pesanan, dengan kolom utama seperti order_id (ID pesanan), payment_sequential (urutan pembayaran untuk satu pesanan), payment_type (jenis metode pembayaran), payment_installments (jumlah cicilan), dan payment_value (nilai pembayaran)."
      ],
      "metadata": {
        "id": "op3OWrZAlwbv"
      }
    },
    {
      "cell_type": "code",
      "source": [
        "# Menampilkan informasi umum tentang dataset, termasuk jumlah kolom, tipe data, dan nilai yang tidak null\n",
        "dfreviews.info()"
      ],
      "metadata": {
        "colab": {
          "base_uri": "https://localhost:8080/"
        },
        "id": "qmpuyiQEj84t",
        "outputId": "23ef8fd6-8587-40a2-e84d-ab83bd237d1f"
      },
      "execution_count": 140,
      "outputs": [
        {
          "output_type": "stream",
          "name": "stdout",
          "text": [
            "<class 'pandas.core.frame.DataFrame'>\n",
            "Index: 103883 entries, 0 to 103885\n",
            "Data columns (total 5 columns):\n",
            " #   Column                Non-Null Count   Dtype  \n",
            "---  ------                --------------   -----  \n",
            " 0   order_id              103883 non-null  object \n",
            " 1   payment_sequential    103883 non-null  int64  \n",
            " 2   payment_type          103883 non-null  object \n",
            " 3   payment_installments  103883 non-null  int64  \n",
            " 4   payment_value         103883 non-null  float64\n",
            "dtypes: float64(1), int64(2), object(2)\n",
            "memory usage: 4.8+ MB\n"
          ]
        }
      ]
    },
    {
      "cell_type": "markdown",
      "source": [
        "**Insight:**\n",
        "- Setelah dilakukan proses pembersihan data (cleaning), jumlah entri dalam dataset dfreviews kini berjumlah 103,883 dengan 5 kolom, yaitu order_id, payment_sequential, payment_type, payment_installments, dan payment_value. Tidak ada nilai yang hilang (null) dalam dataset ini, sehingga tidak diperlukan imputasi atau penghapusan tambahan. Tipe data pada setiap kolom telah sesuai, dengan order_id dan payment_type bertipe object, sedangkan payment_sequential dan payment_installments bertipe integer, serta payment_value bertipe float. Setelah penghapusan metode pembayaran not_defined, dataset kini hanya berisi empat metode pembayaran utama, sehingga lebih bersih dan siap untuk analisis lebih lanjut."
      ],
      "metadata": {
        "id": "-8IfjRIslwzl"
      }
    },
    {
      "cell_type": "code",
      "source": [
        "# Mengecek dimensi data\n",
        "print(\"Shape of the DataFrame:\", dfreviews.shape)"
      ],
      "metadata": {
        "colab": {
          "base_uri": "https://localhost:8080/"
        },
        "id": "PxFE3VERkCqp",
        "outputId": "bd8aa983-6266-4f29-8c9d-63b4b25bed59"
      },
      "execution_count": 141,
      "outputs": [
        {
          "output_type": "stream",
          "name": "stdout",
          "text": [
            "Shape of the DataFrame: (103883, 5)\n"
          ]
        }
      ]
    },
    {
      "cell_type": "markdown",
      "source": [
        "**Insight:**\n",
        "- Setelah proses pembersihan data, dataset dfreviews memiliki 103,883 baris dan 5 kolom, menunjukkan bahwa hanya 3 baris yang dihapus dari dataset awal (103,886 baris). Penghapusan ini disebabkan oleh penghapusan metode pembayaran not_defined, yang sebelumnya memiliki 3 entri."
      ],
      "metadata": {
        "id": "y4qNu3LOlxYA"
      }
    },
    {
      "cell_type": "code",
      "execution_count": 142,
      "metadata": {
        "id": "e9CQCZjk8DC2",
        "colab": {
          "base_uri": "https://localhost:8080/",
          "height": 432
        },
        "outputId": "5f582a6b-ca96-4dd0-a0f9-d7424bc0e50c"
      },
      "outputs": [
        {
          "output_type": "display_data",
          "data": {
            "text/plain": [
              "<Figure size 1400x500 with 2 Axes>"
            ],
            "image/png": "[encoded data removed]"
          },
          "metadata": {}
        }
      ],
      "source": [
        "# Agregasi berdasarkan metode pembayaran\n",
        "agg_payment_type = dfreviews.groupby(\"payment_type\")[\"payment_value\"].agg([\"count\", \"mean\", \"sum\"]).reset_index()\n",
        "agg_payment_type.columns = [\"payment_type\", \"total_transaksi\", \"rata_rata_pembayaran\", \"total_pembayaran\"]\n",
        "\n",
        "# Agregasi berdasarkan jumlah cicilan\n",
        "agg_installments = dfreviews.groupby(\"payment_installments\")[\"payment_value\"].agg([\"count\", \"mean\", \"sum\"]).reset_index()\n",
        "agg_installments.columns = [\"jumlah_cicilan\", \"total_transaksi\", \"rata_rata_pembayaran\", \"total_pembayaran\"]\n",
        "\n",
        "# Visualisasi Agregasi Berdasarkan Metode Pembayaran\n",
        "fig, axes = plt.subplots(1, 2, figsize=(14, 5))\n",
        "\n",
        "# Total Transaksi per Metode Pembayaran\n",
        "sns.barplot(data=agg_payment_type, x=\"payment_type\", y=\"total_transaksi\", hue=\"payment_type\", ax=axes[0], palette=\"viridis\", legend=False)\n",
        "axes[0].set_title(\"Total Transaksi per Metode Pembayaran\")\n",
        "axes[0].set_xlabel(\"Metode Pembayaran\")\n",
        "axes[0].set_ylabel(\"Total Transaksi\")\n",
        "axes[0].tick_params(axis='x', rotation=45)\n",
        "\n",
        "# Rata-rata Pembayaran per Metode Pembayaran\n",
        "sns.barplot(data=agg_payment_type, x=\"payment_type\", y=\"rata_rata_pembayaran\", hue=\"payment_type\", ax=axes[1], palette=\"magma\", legend=False)\n",
        "axes[1].set_title(\"Rata-rata Pembayaran per Metode Pembayaran\")\n",
        "axes[1].set_xlabel(\"Metode Pembayaran\")\n",
        "axes[1].set_ylabel(\"Rata-rata Pembayaran (Rp)\")\n",
        "axes[1].tick_params(axis='x', rotation=45)\n",
        "\n",
        "\n",
        "plt.tight_layout()\n",
        "plt.show()"
      ]
    },
    {
      "cell_type": "markdown",
      "source": [
        "**Insight:**\n",
        "- Berdasarkan visualisasi agregasi metode pembayaran, mayoritas transaksi dilakukan menggunakan kartu kredit, dengan total transaksi yang jauh lebih tinggi dibanding metode lainnya. Metode pembayaran boleto berada di urutan kedua, diikuti oleh voucher dan debit card, yang memiliki jumlah transaksi paling sedikit. Dari sisi rata-rata pembayaran, metode credit_card memiliki nilai tertinggi, diikuti oleh boleto dan debit_card, sedangkan metode voucher memiliki rata-rata pembayaran terendah. Hal ini menunjukkan bahwa kartu kredit menjadi pilihan utama pelanggan, baik dari segi jumlah transaksi maupun nilai pembayaran, sedangkan voucher lebih banyak digunakan untuk transaksi bernilai kecil."
      ],
      "metadata": {
        "id": "dxNXUOMHlx2p"
      }
    },
    {
      "cell_type": "code",
      "source": [
        "# Visualisasi Agregasi Berdasarkan Jumlah Cicilan\n",
        "fig, ax1 = plt.subplots(figsize=(10, 5))\n",
        "\n",
        "sns.lineplot(data=agg_installments, x=\"jumlah_cicilan\", y=\"rata_rata_pembayaran\", marker=\"o\", color=\"blue\", label=\"Rata-rata Pembayaran\", ax=ax1)\n",
        "ax1.set_title(\"Rata-rata Pembayaran Berdasarkan Jumlah Cicilan\")\n",
        "ax1.set_xlabel(\"Jumlah Cicilan\")\n",
        "ax1.set_ylabel(\"Rata-rata Pembayaran (Rp)\")\n",
        "ax1.grid(True)\n",
        "\n",
        "plt.show()"
      ],
      "metadata": {
        "colab": {
          "base_uri": "https://localhost:8080/",
          "height": 487
        },
        "id": "yQWXU2BSgmsR",
        "outputId": "68692401-089c-4032-a3fd-43cf7c613a04"
      },
      "execution_count": 143,
      "outputs": [
        {
          "output_type": "display_data",
          "data": {
            "text/plain": [
              "<Figure size 1000x500 with 1 Axes>"
            ],
            "image/png": "[encoded data removed]"
          },
          "metadata": {}
        }
      ]
    },
    {
      "cell_type": "markdown",
      "source": [
        "**Insight:**\n",
        "- Berdasarkan visualisasi rata-rata pembayaran berdasarkan jumlah cicilan, terlihat bahwa semakin besar jumlah cicilan, rata-rata pembayaran cenderung meningkat dengan beberapa fluktuasi. Pada cicilan rendah (1-5 kali), nilai rata-rata pembayaran stabil dan bertahap naik. Namun, pada cicilan yang lebih tinggi, terjadi lonjakan signifikan pada beberapa titik, menunjukkan bahwa beberapa pelanggan memilih cicilan panjang untuk transaksi bernilai besar. Pola ini mengindikasikan bahwa pelanggan yang menggunakan cicilan panjang cenderung melakukan pembelian dengan nominal lebih besar dibandingkan pelanggan dengan cicilan sedikit."
      ],
      "metadata": {
        "id": "abF6U2FxlzEE"
      }
    },
    {
      "cell_type": "markdown",
      "metadata": {
        "id": "zsyZjqak8DC2"
      },
      "source": [
        "## Visualization & Explanatory Analysis"
      ]
    },
    {
      "cell_type": "markdown",
      "metadata": {
        "id": "HZxOiQ6n8DC2"
      },
      "source": [
        "### Pertanyaan 1: Bagaimana distribusi metode pembayaran yang paling sering digunakan oleh pelanggan?"
      ]
    },
    {
      "cell_type": "code",
      "execution_count": 144,
      "metadata": {
        "id": "1swJUdAD8DC2",
        "colab": {
          "base_uri": "https://localhost:8080/",
          "height": 538
        },
        "outputId": "a5fa6dac-cdc9-475b-dd25-2e8a2f0760b3"
      },
      "outputs": [
        {
          "output_type": "display_data",
          "data": {
            "text/plain": [
              "<Figure size 1000x500 with 1 Axes>"
            ],
            "image/png": "[encoded data removed]"
          },
          "metadata": {}
        }
      ],
      "source": [
        "plt.figure(figsize=(10, 5))\n",
        "sns.countplot(data=dfreviews, x=\"payment_type\",order=dfreviews[\"payment_type\"].value_counts().index,hue=\"payment_type\", palette=\"viridis\", legend=False)\n",
        "plt.title(\"Distribusi Metode Pembayaran\")\n",
        "plt.xlabel(\"Metode Pembayaran\")\n",
        "plt.ylabel(\"Jumlah Transaksi\")\n",
        "plt.xticks(rotation=45)\n",
        "plt.show()"
      ]
    },
    {
      "cell_type": "markdown",
      "source": [
        "**Insight:**\n",
        "- Berdasarkan visualisasi distribusi metode pembayaran, terlihat bahwa kartu kredit merupakan metode pembayaran yang paling dominan dengan jumlah transaksi jauh lebih tinggi dibandingkan metode lainnya. Metode pembayaran kedua yang paling banyak digunakan adalah \"boleto\", diikuti oleh \"voucher\" dan \"debit card\" dengan jumlah transaksi yang jauh lebih sedikit. Hal ini menunjukkan bahwa mayoritas pelanggan lebih memilih kartu kredit untuk bertransaksi, kemungkinan karena kemudahan pembayaran secara cicilan, batas kredit yang lebih fleksibel, atau keuntungan tambahan seperti cashback dan reward points. Sementara itu, metode seperti \"debit card\" memiliki jumlah transaksi yang paling rendah, yang bisa disebabkan oleh preferensi pelanggan untuk menggunakan metode pembayaran yang memberikan lebih banyak manfaat finansial."
      ],
      "metadata": {
        "id": "BTuPXwZpl1N8"
      }
    },
    {
      "cell_type": "markdown",
      "metadata": {
        "id": "DgHI7CiU8DC2"
      },
      "source": [
        "### Pertanyaan 2: Apakah ada korelasi antara jumlah cicilan (payment_installments) dengan nilai pembayaran (payment_value)?"
      ]
    },
    {
      "cell_type": "code",
      "execution_count": 145,
      "metadata": {
        "id": "Go0lCsvO8DC2",
        "colab": {
          "base_uri": "https://localhost:8080/",
          "height": 487
        },
        "outputId": "eecbd3ba-aa13-4c00-df9a-5e9dbaf153b4"
      },
      "outputs": [
        {
          "output_type": "display_data",
          "data": {
            "text/plain": [
              "<Figure size 800x500 with 1 Axes>"
            ],
            "image/png": "[encoded data removed]"
          },
          "metadata": {}
        }
      ],
      "source": [
        "plt.figure(figsize=(8, 5))\n",
        "sns.scatterplot(data=dfreviews, x=\"payment_installments\", y=\"payment_value\", alpha=0.5)\n",
        "plt.title(\"Hubungan antara Jumlah Cicilan dan Nilai Pembayaran\")\n",
        "plt.xlabel(\"Jumlah Cicilan\")\n",
        "plt.ylabel(\"Nilai Pembayaran\")\n",
        "plt.show()"
      ]
    },
    {
      "cell_type": "markdown",
      "source": [
        "**Insight:**\n",
        "- Berdasarkan scatter plot di atas, terlihat bahwa jumlah cicilan yang lebih kecil (antara 1 hingga 10) memiliki variasi nilai pembayaran yang lebih besar, termasuk beberapa transaksi dengan nilai yang sangat tinggi. Namun, seiring bertambahnya jumlah cicilan, nilai pembayaran cenderung lebih rendah dan lebih terdistribusi merata dalam rentang yang lebih kecil. Hal ini menunjukkan bahwa pelanggan yang memilih cicilan lebih panjang kemungkinan besar melakukan pembayaran dengan nominal lebih kecil per transaksi, sedangkan pelanggan yang membayar dalam cicilan lebih sedikit cenderung melakukan transaksi dengan nilai lebih besar. Selain itu, ada beberapa outlier dengan nilai pembayaran yang sangat tinggi, terutama pada jumlah cicilan rendah, yang mungkin menunjukkan adanya transaksi dengan produk bernilai tinggi yang dibayar dalam cicilan sedikit atau bahkan lunas langsung."
      ],
      "metadata": {
        "id": "hTDuh8D6l17G"
      }
    },
    {
      "cell_type": "code",
      "source": [
        "# Korelasi numerik\n",
        "correlation = dfreviews[[\"payment_installments\", \"payment_value\"]].corr()\n",
        "print(\"\\nKorelasi antara jumlah cicilan dan nilai pembayaran:\\n\", correlation)"
      ],
      "metadata": {
        "colab": {
          "base_uri": "https://localhost:8080/"
        },
        "id": "ir3w-uy7faax",
        "outputId": "4cacb349-b530-4baa-f0f5-3eaffda5cefa"
      },
      "execution_count": 146,
      "outputs": [
        {
          "output_type": "stream",
          "name": "stdout",
          "text": [
            "\n",
            "Korelasi antara jumlah cicilan dan nilai pembayaran:\n",
            "                       payment_installments  payment_value\n",
            "payment_installments              1.000000       0.330801\n",
            "payment_value                     0.330801       1.000000\n"
          ]
        }
      ]
    },
    {
      "cell_type": "markdown",
      "source": [
        "**Insight:**\n",
        "- Berdasarkan hasil korelasi numerik, nilai korelasi antara jumlah cicilan (payment_installments) dan nilai pembayaran (payment_value) adalah 0.3308, yang menunjukkan korelasi positif lemah antara kedua variabel. Ini berarti bahwa ketika jumlah cicilan meningkat, nilai pembayaran juga cenderung meningkat, tetapi hubungan ini tidak terlalu kuat. Korelasi yang lemah ini menunjukkan bahwa jumlah cicilan bukanlah faktor dominan dalam menentukan besaran nilai pembayaran, karena mungkin ada variabel lain yang lebih berpengaruh, seperti jenis produk yang dibeli atau preferensi pembayaran pelanggan. Meskipun ada kecenderungan bahwa transaksi dengan jumlah cicilan lebih banyak memiliki nilai pembayaran yang lebih tinggi, hubungan ini tidak selalu konsisten di seluruh data."
      ],
      "metadata": {
        "id": "RolEVLOgl3Lm"
      }
    },
    {
      "cell_type": "markdown",
      "metadata": {
        "id": "_WeHlCeX8DC2"
      },
      "source": [
        "## Conclusion"
      ]
    },
    {
      "cell_type": "markdown",
      "metadata": {
        "id": "ZTcyR48Y8DC2"
      },
      "source": [
        "- Conclution pertanyaan 1 (Bagaimana distribusi metode pembayaran yang paling sering digunakan oleh pelanggan?) :\n",
        "Berdasarkan analisis distribusi metode pembayaran, kartu kredit (credit_card) merupakan metode pembayaran yang paling dominan digunakan oleh pelanggan, dengan jumlah transaksi yang jauh lebih tinggi dibandingkan metode lainnya. Metode pembayaran boleto, voucher, dan debit_card memiliki jumlah transaksi yang lebih sedikit, dengan debit_card sebagai metode pembayaran yang paling jarang digunakan. Hal ini menunjukkan bahwa mayoritas pelanggan lebih memilih metode pembayaran berbasis kartu kredit, kemungkinan karena faktor kemudahan transaksi, fleksibilitas pembayaran, serta manfaat tambahan seperti cashback atau program reward."
      ]
    },
    {
      "cell_type": "markdown",
      "source": [
        "- Conclution pertanyaan 2 (Apakah ada korelasi antara jumlah cicilan (payment_installments) dengan nilai pembayaran (payment_value)?) :\n",
        "Analisis korelasi menunjukkan bahwa terdapat hubungan positif yang lemah (0.3308) antara jumlah cicilan dan nilai pembayaran. Artinya, secara umum, semakin besar jumlah cicilan, semakin tinggi nilai pembayaran, tetapi hubungan ini tidak cukup kuat untuk menyimpulkan bahwa jumlah cicilan adalah faktor utama dalam menentukan besarnya pembayaran. Ada kemungkinan bahwa faktor lain, seperti jenis produk yang dibeli atau kebijakan kredit dari penyedia layanan, memiliki pengaruh yang lebih signifikan terhadap nilai pembayaran pelanggan."
      ],
      "metadata": {
        "id": "5nsNNcJf0C-w"
      }
    }
  ],
  "metadata": {
    "kernelspec": {
      "display_name": "Python 3",
      "language": "python",
      "name": "python3"
    },
    "language_info": {
      "name": "python",
      "version": "3.8.0 (tags/v3.8.0:fa919fd, Oct 14 2019, 19:21:23) [MSC v.1916 32 bit (Intel)]"
    },
    "orig_nbformat": 4,
    "vscode": {
      "interpreter": {
        "hash": "972b3bf27e332e87b5379f2791f6ef9dfc79c71018c370b0d7423235e20fe4d7"
      }
    },
    "colab": {
      "provenance": []
    }
  },
  "nbformat": 4,
  "nbformat_minor": 0
}